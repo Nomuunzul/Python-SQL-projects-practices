{
 "cells": [
  {
   "cell_type": "markdown",
   "metadata": {},
   "source": [
    "# Analyzing 2016 posts of Hacker News"
   ]
  },
  {
   "cell_type": "markdown",
   "metadata": {
    "collapsed": true
   },
   "source": [
    "Hacker News is a site started by the startup incubator Y Combinator, where user-submitted stories (known as \"posts\") receive votes and comments, similar to reddit. Hacker News is extremely popular in technology and startup circles, and posts that make it to the top of the Hacker News listings can get hundreds of thousands of visitors as a result.\n",
    "\n",
    "The dataset were downloaded from [here](URL 'https://www.kaggle.com/datasets/hacker-news/hacker-news-posts'), but note that we have reduced from almost 300,000 rows to approximately 20,000 rows by removing all submissions that didn't receive any comments and then randomly sampling from the remaining submissions. Below are descriptions of the columns:\n",
    "-  id: the unique identifier from Hacker News for the post\n",
    "-  title: the title of the post\n",
    "-  url: the URL that the posts links to, if the post has a URL\n",
    "-  num_points: the number of points the post acquired, calculated as the -  total number of upvotes minus the total number of downvotes\n",
    "-  num_comments: the number of comments on the post\n",
    "-  author: the username of the person who submitted the post\n",
    "-  created_at: the date and time of the post's submission\n",
    "\n",
    "So now lets open the dataset and take peak in first few rows."
   ]
  },
  {
   "cell_type": "code",
   "execution_count": 2,
   "metadata": {},
   "outputs": [
    {
     "name": "stdout",
     "output_type": "stream",
     "text": [
      "[['id', 'title', 'url', 'num_points', 'num_comments', 'author', 'created_at']]\n",
      "['12224879', 'Interactive Dynamic Video', 'http://www.interactivedynamicvideo.com/', '386', '52', 'ne0phyte', '8/4/2016 11:52']\n",
      "['10975351', 'How to Use Open Source and Shut the Fuck Up at the Same Time', 'http://hueniverse.com/2016/01/26/how-to-use-open-source-and-shut-the-fuck-up-at-the-same-time/', '39', '10', 'josep2', '1/26/2016 19:30']\n",
      "['11964716', \"Florida DJs May Face Felony for April Fools' Water Joke\", 'http://www.thewire.com/entertainment/2013/04/florida-djs-april-fools-water-joke/63798/', '2', '1', 'vezycash', '6/23/2016 22:20']\n",
      "['11919867', 'Technology ventures: From Idea to Enterprise', 'https://www.amazon.com/Technology-Ventures-Enterprise-Thomas-Byers/dp/0073523429', '3', '1', 'hswarna', '6/17/2016 0:01']\n",
      "['10301696', 'Note by Note: The Making of Steinway L1037 (2007)', 'http://www.nytimes.com/2007/11/07/movies/07stein.html?_r=0', '8', '2', 'walterbell', '9/30/2015 4:12']\n",
      "\n",
      "\n",
      "Total posts are:  20100\n"
     ]
    }
   ],
   "source": [
    "from csv import reader\n",
    "opened_file = open('hacker_news.csv')\n",
    "read_file = reader(opened_file)\n",
    "hn = list(read_file)\n",
    "headers = hn[:1]\n",
    "print(headers)\n",
    "hn = hn[1:]\n",
    "print(*hn[:5], sep = \"\\n\")\n",
    "print(\"\\n\")\n",
    "print(\"Total posts are: \", len(hn))"
   ]
  },
  {
   "cell_type": "markdown",
   "metadata": {},
   "source": [
    "## Extracting posts that has 'Ask HN' or 'Show HN' in the title"
   ]
  },
  {
   "cell_type": "code",
   "execution_count": 5,
   "metadata": {},
   "outputs": [
    {
     "name": "stdout",
     "output_type": "stream",
     "text": [
      "[['12296411', 'Ask HN: How to improve my personal website?', '', '2', '6', 'ahmedbaracat', '8/16/2016 9:55']]\n",
      "Total numbers of Ask HN posts are:  1742\n",
      "\n",
      "\n",
      "[['10627194', 'Show HN: Wio Link  ESP8266 Based Web of Things Hardware Development Platform', 'https://iot.seeed.cc', '26', '22', 'kfihihc', '11/25/2015 14:03']]\n",
      "Total numbers of Show HN posts are:  1161\n",
      "\n",
      "\n",
      "[['12224879', 'Interactive Dynamic Video', 'http://www.interactivedynamicvideo.com/', '386', '52', 'ne0phyte', '8/4/2016 11:52']]\n",
      "Total numbers of other posts are:  17197\n"
     ]
    }
   ],
   "source": [
    "ask_posts = []\n",
    "show_posts = []\n",
    "other_posts = []\n",
    "\n",
    "for row in hn:\n",
    "    title = row[1]\n",
    "    if title.startswith('Ask HN'):\n",
    "        ask_posts.append(row)\n",
    "    elif title.startswith('Show HN'):\n",
    "        show_posts.append(row)\n",
    "    else:\n",
    "        other_posts.append(row)\n",
    "        \n",
    "print(ask_posts[:1])\n",
    "print(\"Total numbers of Ask HN posts are: \", len(ask_posts))\n",
    "print('\\n')\n",
    "print(show_posts[:1])\n",
    "print(\"Total numbers of Show HN posts are: \", len(show_posts))\n",
    "print('\\n')\n",
    "print(other_posts[:1])\n",
    "print(\"Total numbers of other posts are: \", len(other_posts))"
   ]
  },
  {
   "cell_type": "markdown",
   "metadata": {},
   "source": [
    "## Compare number of comments by category\n"
   ]
  },
  {
   "cell_type": "code",
   "execution_count": 10,
   "metadata": {},
   "outputs": [
    {
     "name": "stdout",
     "output_type": "stream",
     "text": [
      "Total comments for Ask HN:  24466\n",
      "Total comments for Show HN:  11987\n",
      "Average comments per Ask posts:  14\n",
      "Average comments per Show posts:  10\n"
     ]
    }
   ],
   "source": [
    "total_ask_comments = 0\n",
    "total_show_comments = 0\n",
    "\n",
    "for row in ask_posts:\n",
    "    comments = int(row[4])\n",
    "    total_ask_comments += comments\n",
    "print(\"Total comments for Ask HN: \", total_ask_comments)   \n",
    "\n",
    "for row in show_posts:\n",
    "    comments = int(row[4])\n",
    "    total_show_comments += comments\n",
    "print(\"Total comments for Show HN: \", total_show_comments)  \n",
    "\n",
    "\n",
    "avg_ask_comments = total_ask_comments / len(ask_posts)\n",
    "avg_show_comments = total_show_comments / len(show_posts)\n",
    "\n",
    "print(\"Average comments per Ask posts: \", round(avg_ask_comments))\n",
    "print(\"Average comments per Show posts: \", round(avg_show_comments))"
   ]
  },
  {
   "cell_type": "markdown",
   "metadata": {},
   "source": [
    "On average, posts that has 'Ask HN' in their title have ~14 comments versus posts has 'Show HN' has ~10 comments. And intuitively, it make sense since posts that ask for other's opinion would receive more comments than posts that presenting the context.\n",
    "\n",
    "Since ask posts are more likely to receive comments, we'll focus our remaining analysis just on these posts."
   ]
  },
  {
   "cell_type": "markdown",
   "metadata": {},
   "source": [
    "## Compare number of comments by posted hours"
   ]
  },
  {
   "cell_type": "code",
   "execution_count": 41,
   "metadata": {},
   "outputs": [
    {
     "name": "stdout",
     "output_type": "stream",
     "text": [
      "Total of posts by posted hours:  {'09': 45, '13': 85, '10': 59, '14': 107, '16': 108, '23': 68, '12': 73, '17': 100, '15': 116, '21': 109, '20': 80, '02': 58, '18': 108, '03': 54, '05': 46, '19': 110, '01': 60, '22': 71, '08': 48, '04': 47, '00': 54, '06': 44, '07': 34, '11': 58}\n",
      "\n",
      "\n",
      "Total of comments by posted hours:  {'09': 251, '13': 1253, '10': 793, '14': 1416, '16': 1814, '23': 543, '12': 687, '17': 1146, '15': 4477, '21': 1745, '20': 1722, '02': 1381, '18': 1430, '03': 421, '05': 464, '19': 1188, '01': 683, '22': 479, '08': 492, '04': 337, '00': 439, '06': 397, '07': 267, '11': 641}\n"
     ]
    }
   ],
   "source": [
    "import datetime as dt\n",
    "result_list = []\n",
    "\n",
    "for row in ask_posts:\n",
    "    post_time = row[6]\n",
    "    comments = int(row[4])\n",
    "    result = [post_time,comments]\n",
    "    result_list.append(result)\n",
    "    \n",
    "counts_by_hour = {}\n",
    "comments_by_hour = {}\n",
    "for row in result_list:\n",
    "    post_date = row[0]\n",
    "    comments_hr = row[1]\n",
    "    post_date_str = dt.datetime.strptime(post_date, \"%m/%d/%Y %H:%M\")\n",
    "    row[0] = post_date_str\n",
    "    \n",
    "    hour = dt.datetime.strftime(post_date_str, \"%H\")\n",
    "    if hour in counts_by_hour:\n",
    "        counts_by_hour[hour] += 1\n",
    "        comments_by_hour[hour] += comments_hr\n",
    "    else:\n",
    "        counts_by_hour[hour] = 1\n",
    "        comments_by_hour[hour] = comments_hr       \n",
    "        \n",
    "print(\"Total of posts by posted hours: \", counts_by_hour)\n",
    "print(\"\\n\")\n",
    "print(\"Total of comments by posted hours: \", comments_by_hour)"
   ]
  },
  {
   "cell_type": "markdown",
   "metadata": {},
   "source": [
    "Now we know total numbers of posts and comments received by hours but to further analysis, we need to see average number of comments for posts created by during each hour of day."
   ]
  },
  {
   "cell_type": "code",
   "execution_count": 51,
   "metadata": {},
   "outputs": [
    {
     "name": "stdout",
     "output_type": "stream",
     "text": [
      "[['09', 5.5777777777777775], ['13', 14.741176470588234], ['10', 13.440677966101696], ['14', 13.233644859813085], ['16', 16.796296296296298], ['23', 7.985294117647059], ['12', 9.41095890410959], ['17', 11.46], ['15', 38.5948275862069], ['21', 16.009174311926607], ['20', 21.525], ['02', 23.810344827586206], ['18', 13.24074074074074], ['03', 7.796296296296297], ['05', 10.08695652173913], ['19', 10.8], ['01', 11.383333333333333], ['22', 6.746478873239437], ['08', 10.25], ['04', 7.170212765957447], ['00', 8.12962962962963], ['06', 9.022727272727273], ['07', 7.852941176470588], ['11', 11.051724137931034]]\n"
     ]
    }
   ],
   "source": [
    "avg_by_hour = []\n",
    "for row in counts_by_hour:\n",
    "    avg = comments_by_hour[row] / counts_by_hour[row]\n",
    "    avg_by_hour.append([row, avg])\n",
    "    \n",
    "print(avg_by_hour)"
   ]
  },
  {
   "cell_type": "markdown",
   "metadata": {},
   "source": [
    "To make it easy to derive conclusion from the result, we need to sort top 5 values."
   ]
  },
  {
   "cell_type": "code",
   "execution_count": 80,
   "metadata": {},
   "outputs": [
    {
     "name": "stdout",
     "output_type": "stream",
     "text": [
      "[[5.5777777777777775, '09'], [14.741176470588234, '13'], [13.440677966101696, '10'], [13.233644859813085, '14'], [16.796296296296298, '16'], [7.985294117647059, '23'], [9.41095890410959, '12'], [11.46, '17'], [38.5948275862069, '15'], [16.009174311926607, '21'], [21.525, '20'], [23.810344827586206, '02'], [13.24074074074074, '18'], [7.796296296296297, '03'], [10.08695652173913, '05'], [10.8, '19'], [11.383333333333333, '01'], [6.746478873239437, '22'], [10.25, '08'], [7.170212765957447, '04'], [8.12962962962963, '00'], [9.022727272727273, '06'], [7.852941176470588, '07'], [11.051724137931034, '11']]\n",
      "\n",
      "\n",
      "Top 5 Hours for Ask Posts Comments:\n",
      "15:00 - 38.59 average comments per post\n",
      "02:00 - 23.81 average comments per post\n",
      "20:00 - 21.52 average comments per post\n",
      "16:00 - 16.80 average comments per post\n",
      "21:00 - 16.01 average comments per post\n",
      "\n",
      "\n",
      "Top 5 Hours for Ask HN posting:\n",
      "15:00 - 116.00 average post by hour\n",
      "19:00 - 110.00 average post by hour\n",
      "21:00 - 109.00 average post by hour\n",
      "18:00 - 108.00 average post by hour\n",
      "16:00 - 108.00 average post by hour\n"
     ]
    }
   ],
   "source": [
    "swap_avg_by_hour = []\n",
    "\n",
    "for row in avg_by_hour:\n",
    "    avg = row[1]\n",
    "    hour = row[0]\n",
    "    swap_avg_by_hour.append([avg, hour])\n",
    "    \n",
    "print(swap_avg_by_hour)\n",
    "\n",
    "sorted_swap = sorted(swap_avg_by_hour, reverse = True)\n",
    "print('\\n')\n",
    "print(\"Top 5 Hours for Ask Posts Comments:\")\n",
    "for row in sorted_swap[:5]:\n",
    "    hour = str(row[1])\n",
    "    hour = dt.datetime.strptime(hour, \"%H\")\n",
    "    hour = hour.strftime(\"%H:%M\")\n",
    "    print('{0} - {1:.2f} average comments per post'.format(hour, row[0]))\n",
    "\n",
    "    \n",
    "#Lets see how posts are posted by hour during the day\n",
    "print('\\n')\n",
    "print(\"Top 5 Hours for Ask HN posting:\")\n",
    "    \n",
    "swap_counts = []\n",
    "for row in counts_by_hour:\n",
    "    counts = counts_by_hour[row]\n",
    "    hour = row\n",
    "    swap_counts.append([counts, hour])\n",
    "swap_post_hr = sorted(swap_counts, reverse = True)\n",
    "\n",
    "for row in swap_post_hr[:5]:\n",
    "    hour = str(row[1])\n",
    "    hour = dt.datetime.strptime(hour, \"%H\")\n",
    "    hour = hour.strftime(\"%H:%M\")\n",
    "    print('{0} - {1:.2f} average post by hour'.format(hour, row[0]))\n",
    "    "
   ]
  },
  {
   "cell_type": "markdown",
   "metadata": {},
   "source": [
    "## Conclusion"
   ]
  },
  {
   "cell_type": "markdown",
   "metadata": {},
   "source": [
    "As a result is shown, 'Ask HN' are most likely to receive feedbacks from readers than 'Show HN'. According to the data, average numbers of comments per posts for 'Ask HN' category would receive ~14 comments, while for 'Show HN' receives ~10 comments.\n",
    "\n",
    "And the highest average numbers of comments received per 'Ask HN' is 3pm and rest of the top 4 average numbers of comments were generally equally distributed in the evening and night hours. Its hihgly suggestive that readers would allocate some time to read and respond in their leisure hours.\n",
    "\n",
    "Looking from different angle, the posts were also mostly posted in after 3pm till 9pm. However given the highest numbers of comments viewers are more active afternoon and evening, its potential that if posts were uploaded before peak hours would likely to receive more attention from viewers."
   ]
  }
 ],
 "metadata": {
  "kernelspec": {
   "display_name": "Python 3",
   "language": "python",
   "name": "python3"
  },
  "language_info": {
   "codemirror_mode": {
    "name": "ipython",
    "version": 3
   },
   "file_extension": ".py",
   "mimetype": "text/x-python",
   "name": "python",
   "nbconvert_exporter": "python",
   "pygments_lexer": "ipython3",
   "version": "3.8.2"
  }
 },
 "nbformat": 4,
 "nbformat_minor": 2
}
